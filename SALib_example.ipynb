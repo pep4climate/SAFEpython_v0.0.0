{
 "cells": [
  {
   "cell_type": "code",
   "execution_count": null,
   "metadata": {},
   "outputs": [],
   "source": [
    "# https://salib.readthedocs.io/en/latest/user_guide/getting-started.html"
   ]
  },
  {
   "cell_type": "code",
   "execution_count": 2,
   "metadata": {},
   "outputs": [
    {
     "name": "stdout",
     "output_type": "stream",
     "text": [
      "Defaulting to user installation because normal site-packages is not writeableNote: you may need to restart the kernel to use updated packages.\n",
      "\n",
      "Requirement already satisfied: SALib in c:\\users\\fn20944\\appdata\\roaming\\python\\python311\\site-packages (1.4.7)\n",
      "Requirement already satisfied: matplotlib>=3.2.2 in c:\\programdata\\anaconda3\\lib\\site-packages (from SALib) (3.7.1)\n",
      "Requirement already satisfied: multiprocess in c:\\users\\fn20944\\appdata\\roaming\\python\\python311\\site-packages (from SALib) (0.70.15)\n",
      "Requirement already satisfied: numpy>=1.20.3 in c:\\programdata\\anaconda3\\lib\\site-packages (from SALib) (1.24.3)\n",
      "Requirement already satisfied: pandas>=1.1.2 in c:\\programdata\\anaconda3\\lib\\site-packages (from SALib) (1.5.3)\n",
      "Requirement already satisfied: scipy>=1.7.3 in c:\\programdata\\anaconda3\\lib\\site-packages (from SALib) (1.10.1)\n",
      "Requirement already satisfied: contourpy>=1.0.1 in c:\\programdata\\anaconda3\\lib\\site-packages (from matplotlib>=3.2.2->SALib) (1.0.5)\n",
      "Requirement already satisfied: cycler>=0.10 in c:\\programdata\\anaconda3\\lib\\site-packages (from matplotlib>=3.2.2->SALib) (0.11.0)\n",
      "Requirement already satisfied: fonttools>=4.22.0 in c:\\programdata\\anaconda3\\lib\\site-packages (from matplotlib>=3.2.2->SALib) (4.25.0)\n",
      "Requirement already satisfied: kiwisolver>=1.0.1 in c:\\programdata\\anaconda3\\lib\\site-packages (from matplotlib>=3.2.2->SALib) (1.4.4)\n",
      "Requirement already satisfied: packaging>=20.0 in c:\\programdata\\anaconda3\\lib\\site-packages (from matplotlib>=3.2.2->SALib) (23.0)\n",
      "Requirement already satisfied: pillow>=6.2.0 in c:\\programdata\\anaconda3\\lib\\site-packages (from matplotlib>=3.2.2->SALib) (9.4.0)\n",
      "Requirement already satisfied: pyparsing>=2.3.1 in c:\\programdata\\anaconda3\\lib\\site-packages (from matplotlib>=3.2.2->SALib) (3.0.9)\n",
      "Requirement already satisfied: python-dateutil>=2.7 in c:\\programdata\\anaconda3\\lib\\site-packages (from matplotlib>=3.2.2->SALib) (2.8.2)\n",
      "Requirement already satisfied: pytz>=2020.1 in c:\\programdata\\anaconda3\\lib\\site-packages (from pandas>=1.1.2->SALib) (2022.7)\n",
      "Requirement already satisfied: dill>=0.3.7 in c:\\users\\fn20944\\appdata\\roaming\\python\\python311\\site-packages (from multiprocess->SALib) (0.3.7)\n",
      "Requirement already satisfied: six>=1.5 in c:\\programdata\\anaconda3\\lib\\site-packages (from python-dateutil>=2.7->matplotlib>=3.2.2->SALib) (1.16.0)\n"
     ]
    }
   ],
   "source": [
    "pip install SALib"
   ]
  },
  {
   "cell_type": "code",
   "execution_count": 2,
   "metadata": {},
   "outputs": [
    {
     "name": "stderr",
     "output_type": "stream",
     "text": [
      "C:\\Users\\fn20944\\AppData\\Local\\Temp\\ipykernel_520\\3717009352.py:16: DeprecationWarning: `salib.sample.saltelli` will be removed in SALib 1.5. Please use `salib.sample.sobol`\n",
      "  param_values = saltelli.sample(problem, 1024)\n"
     ]
    },
    {
     "name": "stdout",
     "output_type": "stream",
     "text": [
      "          ST   ST_conf\n",
      "x1  0.555860  0.090065\n",
      "x2  0.441898  0.037973\n",
      "x3  0.244675  0.026507\n",
      "          S1   S1_conf\n",
      "x1  0.316832  0.061005\n",
      "x2  0.443763  0.056185\n",
      "x3  0.012203  0.060794\n",
      "                S2   S2_conf\n",
      "(x1, x2)  0.009254  0.079422\n",
      "(x1, x3)  0.238172  0.104081\n",
      "(x2, x3) -0.004888  0.065383\n",
      "[0.31683154 0.44376306 0.01220312]\n"
     ]
    }
   ],
   "source": [
    "from SALib.sample import saltelli\n",
    "from SALib.analyze import sobol\n",
    "from SALib.test_functions import Ishigami\n",
    "import numpy as np\n",
    "\n",
    "# Define the model inputs\n",
    "problem = {\n",
    "    'num_vars': 3,\n",
    "    'names': ['x1', 'x2', 'x3'],\n",
    "    'bounds': [[-3.14159265359, 3.14159265359],\n",
    "               [-3.14159265359, 3.14159265359],\n",
    "               [-3.14159265359, 3.14159265359]]\n",
    "}\n",
    "\n",
    "# Generate samples\n",
    "param_values = saltelli.sample(problem, 1024)\n",
    "\n",
    "# Run model (example)\n",
    "Y = Ishigami.evaluate(param_values)\n",
    "\n",
    "# Perform analysis\n",
    "Si = sobol.analyze(problem, Y, print_to_console=True)\n",
    "\n",
    "# Print the first-order sensitivity indices\n",
    "print(Si['S1'])"
   ]
  },
  {
   "cell_type": "code",
   "execution_count": null,
   "metadata": {},
   "outputs": [],
   "source": []
  },
  {
   "cell_type": "code",
   "execution_count": 2,
   "metadata": {},
   "outputs": [],
   "source": [
    "problem = {\n",
    "    'num_vars': 2,\n",
    "    'names': ['x1', 'x2'],\n",
    "    'bounds': [[-3.14159265359, 3.14159265359],\n",
    "               [-3.14159265359, 3.14159265359]]\n",
    "}"
   ]
  },
  {
   "cell_type": "code",
   "execution_count": 3,
   "metadata": {},
   "outputs": [],
   "source": [
    "import SALib.analyze.pawn"
   ]
  },
  {
   "cell_type": "code",
   "execution_count": 4,
   "metadata": {},
   "outputs": [
    {
     "ename": "NameError",
     "evalue": "name 'X' is not defined",
     "output_type": "error",
     "traceback": [
      "\u001b[1;31m---------------------------------------------------------------------------\u001b[0m",
      "\u001b[1;31mNameError\u001b[0m                                 Traceback (most recent call last)",
      "\u001b[1;32mc:\\Users\\fn20944\\Documents\\SAFE_toolbox\\SAFEpython_v0.0.0_bridge_assessment\\SALib_example.ipynb Cell 7\u001b[0m line \u001b[0;36m1\n\u001b[1;32m----> <a href='vscode-notebook-cell:/c%3A/Users/fn20944/Documents/SAFE_toolbox/SAFEpython_v0.0.0_bridge_assessment/SALib_example.ipynb#W6sZmlsZQ%3D%3D?line=0'>1</a>\u001b[0m SALib\u001b[39m.\u001b[39manalyze\u001b[39m.\u001b[39mpawn\u001b[39m.\u001b[39manalyze(problem, X, Y, \u001b[39m10\u001b[39m, \u001b[39mFalse\u001b[39;00m, \u001b[39mNone\u001b[39;00m)\n",
      "\u001b[1;31mNameError\u001b[0m: name 'X' is not defined"
     ]
    }
   ],
   "source": [
    "SALib.analyze.pawn.analyze(problem, X, Y, 10, False, None)"
   ]
  },
  {
   "cell_type": "code",
   "execution_count": null,
   "metadata": {},
   "outputs": [],
   "source": []
  },
  {
   "cell_type": "code",
   "execution_count": 5,
   "metadata": {},
   "outputs": [],
   "source": [
    "import SALib.analyze.dgsm"
   ]
  },
  {
   "cell_type": "code",
   "execution_count": 6,
   "metadata": {},
   "outputs": [
    {
     "ename": "NameError",
     "evalue": "name 'X' is not defined",
     "output_type": "error",
     "traceback": [
      "\u001b[1;31m---------------------------------------------------------------------------\u001b[0m",
      "\u001b[1;31mNameError\u001b[0m                                 Traceback (most recent call last)",
      "\u001b[1;32mc:\\Users\\fn20944\\Documents\\SAFE_toolbox\\SAFEpython_v0.0.0_bridge_assessment\\SALib_example.ipynb Cell 10\u001b[0m line \u001b[0;36m1\n\u001b[1;32m----> <a href='vscode-notebook-cell:/c%3A/Users/fn20944/Documents/SAFE_toolbox/SAFEpython_v0.0.0_bridge_assessment/SALib_example.ipynb#X12sZmlsZQ%3D%3D?line=0'>1</a>\u001b[0m SALib\u001b[39m.\u001b[39manalyze\u001b[39m.\u001b[39mdgsm\u001b[39m.\u001b[39manalyze(problem, X, Y, num_resamples\u001b[39m=\u001b[39m\u001b[39m100\u001b[39m, conf_level\u001b[39m=\u001b[39m\u001b[39m0.95\u001b[39m, print_to_console\u001b[39m=\u001b[39m\u001b[39mFalse\u001b[39;00m, seed\u001b[39m=\u001b[39m\u001b[39mNone\u001b[39;00m)\n",
      "\u001b[1;31mNameError\u001b[0m: name 'X' is not defined"
     ]
    }
   ],
   "source": [
    "SALib.analyze.dgsm.analyze(problem, X, Y, num_resamples=100, conf_level=0.95, print_to_console=False, seed=None)"
   ]
  },
  {
   "cell_type": "code",
   "execution_count": 23,
   "metadata": {},
   "outputs": [
    {
     "data": {
      "text/plain": [
       "array([<Axes: >, <Axes: >, <Axes: >], dtype=object)"
      ]
     },
     "execution_count": 23,
     "metadata": {},
     "output_type": "execute_result"
    },
    {
     "data": {
      "image/png": "[encoded data removed]",
      "text/plain": [
       "<Figure size 640x480 with 3 Axes>"
      ]
     },
     "metadata": {},
     "output_type": "display_data"
    }
   ],
   "source": [
    "Si.plot()"
   ]
  },
  {
   "cell_type": "code",
   "execution_count": 26,
   "metadata": {},
   "outputs": [
    {
     "data": {
      "text/plain": [
       "array([[-1.88662101,  2.81385067,  2.33893531],\n",
       "       [ 2.8960156 , -2.11704508,  0.43777238],\n",
       "       [-1.3853247 ,  1.42726968,  0.30777067],\n",
       "       ...,\n",
       "       [ 2.07849267,  1.87366972, -1.80667294],\n",
       "       [ 0.30811138,  0.1640807 ,  2.669159  ],\n",
       "       [ 2.57626625, -1.51117225,  2.16897686]])"
      ]
     },
     "execution_count": 26,
     "metadata": {},
     "output_type": "execute_result"
    }
   ],
   "source": [
    "X"
   ]
  },
  {
   "cell_type": "code",
   "execution_count": null,
   "metadata": {},
   "outputs": [],
   "source": []
  }
 ],
 "metadata": {
  "kernelspec": {
   "display_name": "base",
   "language": "python",
   "name": "python3"
  },
  "language_info": {
   "codemirror_mode": {
    "name": "ipython",
    "version": 3
   },
   "file_extension": ".py",
   "mimetype": "text/x-python",
   "name": "python",
   "nbconvert_exporter": "python",
   "pygments_lexer": "ipython3",
   "version": "3.11.4"
  },
  "orig_nbformat": 4
 },
 "nbformat": 4,
 "nbformat_minor": 2
}
